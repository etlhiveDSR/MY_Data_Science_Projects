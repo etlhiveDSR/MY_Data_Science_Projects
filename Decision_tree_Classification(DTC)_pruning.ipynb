{
 "cells": [
  {
   "cell_type": "code",
   "execution_count": 1,
   "metadata": {},
   "outputs": [],
   "source": [
    "import pandas as pd\n",
    "A = pd.read_csv(\"/users/bajajvbh/Desktop/Vaibhav/Datasets/Cars93.csv\")"
   ]
  },
  {
   "cell_type": "code",
   "execution_count": 3,
   "metadata": {},
   "outputs": [],
   "source": [
    "from preprocessing_TTS import prep"
   ]
  },
  {
   "cell_type": "code",
   "execution_count": 4,
   "metadata": {},
   "outputs": [],
   "source": [
    "xtrain,xtest,ytrain,ytest=prep(A,[\"id\",\"Make\",\"Model\",\"Manufacturer\"],[\"Type\"])"
   ]
  },
  {
   "cell_type": "code",
   "execution_count": 10,
   "metadata": {},
   "outputs": [],
   "source": [
    "from sklearn.tree import DecisionTreeClassifier\n",
    "dtc = DecisionTreeClassifier(criterion=\"entropy\",random_state=22)"
   ]
  },
  {
   "cell_type": "code",
   "execution_count": 6,
   "metadata": {},
   "outputs": [],
   "source": [
    "def fitting(mobj):\n",
    "    model = mobj.fit(xtrain,ytrain)\n",
    "    pred_ts = model.predict(xtest)\n",
    "    pred_tr = model.predict(xtrain)\n",
    "    from sklearn.metrics import accuracy_score\n",
    "    tsa = accuracy_score(ytest,pred_ts)\n",
    "    tra = accuracy_score(ytrain,pred_tr)\n",
    "    if(tsa < tra):\n",
    "        print(\"Overfitting has occurred\")\n",
    "    else:\n",
    "        print(\"No overfitting\")\n",
    "\n",
    "    print(\"Training accuracy is: \",tra)\n",
    "    print(\"\\nTesting accuracy is: \",tsa)"
   ]
  },
  {
   "cell_type": "code",
   "execution_count": 11,
   "metadata": {},
   "outputs": [
    {
     "name": "stdout",
     "output_type": "stream",
     "text": [
      "Overfitting has occurred\n",
      "Training accuracy is:  1.0\n",
      "\n",
      "Testing accuracy is:  0.7894736842105263\n"
     ]
    }
   ],
   "source": [
    "fitting(dtc)"
   ]
  },
  {
   "cell_type": "code",
   "execution_count": 12,
   "metadata": {},
   "outputs": [
    {
     "name": "stdout",
     "output_type": "stream",
     "text": [
      "Overfitting has occurred\n",
      "Training accuracy is:  0.7567567567567568\n",
      "\n",
      "Testing accuracy is:  0.5263157894736842\n"
     ]
    }
   ],
   "source": [
    "dtc1 = DecisionTreeClassifier(criterion=\"entropy\",max_depth=2,random_state=22)\n",
    "fitting(dtc1)"
   ]
  },
  {
   "cell_type": "code",
   "execution_count": 13,
   "metadata": {},
   "outputs": [
    {
     "name": "stdout",
     "output_type": "stream",
     "text": [
      "Overfitting has occurred\n",
      "Training accuracy is:  0.8513513513513513\n",
      "\n",
      "Testing accuracy is:  0.5789473684210527\n"
     ]
    }
   ],
   "source": [
    "dtc2 = DecisionTreeClassifier(criterion=\"entropy\",max_depth=3,random_state=22)\n",
    "fitting(dtc2)"
   ]
  },
  {
   "cell_type": "code",
   "execution_count": 14,
   "metadata": {},
   "outputs": [
    {
     "name": "stdout",
     "output_type": "stream",
     "text": [
      "Overfitting has occurred\n",
      "Training accuracy is:  0.9324324324324325\n",
      "\n",
      "Testing accuracy is:  0.7368421052631579\n"
     ]
    }
   ],
   "source": [
    "dtc1 = DecisionTreeClassifier(criterion=\"entropy\",max_depth=4,random_state=22)\n",
    "fitting(dtc1)"
   ]
  },
  {
   "cell_type": "code",
   "execution_count": 15,
   "metadata": {},
   "outputs": [
    {
     "name": "stdout",
     "output_type": "stream",
     "text": [
      "Overfitting has occurred\n",
      "Training accuracy is:  1.0\n",
      "\n",
      "Testing accuracy is:  0.7894736842105263\n"
     ]
    }
   ],
   "source": [
    "dtc1 = DecisionTreeClassifier(criterion=\"entropy\",max_depth=5,random_state=22)\n",
    "fitting(dtc1)"
   ]
  },
  {
   "cell_type": "code",
   "execution_count": 16,
   "metadata": {},
   "outputs": [
    {
     "name": "stdout",
     "output_type": "stream",
     "text": [
      "Overfitting has occurred\n",
      "Training accuracy is:  1.0\n",
      "\n",
      "Testing accuracy is:  0.7894736842105263\n"
     ]
    }
   ],
   "source": [
    "dtc1 = DecisionTreeClassifier(criterion=\"entropy\",max_depth=6,random_state=22)\n",
    "fitting(dtc1)"
   ]
  },
  {
   "cell_type": "code",
   "execution_count": 17,
   "metadata": {},
   "outputs": [
    {
     "name": "stdout",
     "output_type": "stream",
     "text": [
      "Overfitting has occurred\n",
      "Training accuracy is:  1.0\n",
      "\n",
      "Testing accuracy is:  0.7894736842105263\n"
     ]
    }
   ],
   "source": [
    "dtc1 = DecisionTreeClassifier(criterion=\"entropy\",max_depth=7,random_state=22)\n",
    "fitting(dtc1)"
   ]
  },
  {
   "cell_type": "code",
   "execution_count": 18,
   "metadata": {},
   "outputs": [
    {
     "name": "stdout",
     "output_type": "stream",
     "text": [
      "max depth =  2\n",
      "Overfitting has occurred\n",
      "Training accuracy is:  0.7567567567567568\n",
      "\n",
      "Testing accuracy is:  0.5263157894736842\n",
      "\n",
      "*****************\n",
      "max depth =  3\n",
      "Overfitting has occurred\n",
      "Training accuracy is:  0.8513513513513513\n",
      "\n",
      "Testing accuracy is:  0.5789473684210527\n",
      "\n",
      "*****************\n",
      "max depth =  4\n",
      "Overfitting has occurred\n",
      "Training accuracy is:  0.9324324324324325\n",
      "\n",
      "Testing accuracy is:  0.7368421052631579\n",
      "\n",
      "*****************\n",
      "max depth =  5\n",
      "Overfitting has occurred\n",
      "Training accuracy is:  1.0\n",
      "\n",
      "Testing accuracy is:  0.7894736842105263\n",
      "\n",
      "*****************\n",
      "max depth =  6\n",
      "Overfitting has occurred\n",
      "Training accuracy is:  1.0\n",
      "\n",
      "Testing accuracy is:  0.7894736842105263\n",
      "\n",
      "*****************\n",
      "max depth =  7\n",
      "Overfitting has occurred\n",
      "Training accuracy is:  1.0\n",
      "\n",
      "Testing accuracy is:  0.7894736842105263\n",
      "\n",
      "*****************\n",
      "max depth =  8\n",
      "Overfitting has occurred\n",
      "Training accuracy is:  1.0\n",
      "\n",
      "Testing accuracy is:  0.7894736842105263\n",
      "\n",
      "*****************\n",
      "max depth =  9\n",
      "Overfitting has occurred\n",
      "Training accuracy is:  1.0\n",
      "\n",
      "Testing accuracy is:  0.7894736842105263\n",
      "\n",
      "*****************\n"
     ]
    }
   ],
   "source": [
    "for i in range(2,10,1):\n",
    "    print(\"max depth = \",i)\n",
    "    dtc = DecisionTreeClassifier(criterion=\"entropy\",max_depth=i,random_state=22)\n",
    "    fitting(dtc)\n",
    "    print(\"\\n*****************\")"
   ]
  },
  {
   "cell_type": "code",
   "execution_count": 19,
   "metadata": {},
   "outputs": [
    {
     "name": "stdout",
     "output_type": "stream",
     "text": [
      "min_samples_split =  2\n",
      "Overfitting has occurred\n",
      "Training accuracy is:  1.0\n",
      "\n",
      "Testing accuracy is:  0.7894736842105263\n",
      "\n",
      "*****************\n",
      "min_samples_split =  3\n",
      "Overfitting has occurred\n",
      "Training accuracy is:  0.9864864864864865\n",
      "\n",
      "Testing accuracy is:  0.7894736842105263\n",
      "\n",
      "*****************\n",
      "min_samples_split =  4\n",
      "Overfitting has occurred\n",
      "Training accuracy is:  0.9864864864864865\n",
      "\n",
      "Testing accuracy is:  0.7894736842105263\n",
      "\n",
      "*****************\n",
      "min_samples_split =  5\n",
      "Overfitting has occurred\n",
      "Training accuracy is:  0.9864864864864865\n",
      "\n",
      "Testing accuracy is:  0.7894736842105263\n",
      "\n",
      "*****************\n",
      "min_samples_split =  6\n",
      "Overfitting has occurred\n",
      "Training accuracy is:  0.972972972972973\n",
      "\n",
      "Testing accuracy is:  0.7368421052631579\n",
      "\n",
      "*****************\n",
      "min_samples_split =  7\n",
      "Overfitting has occurred\n",
      "Training accuracy is:  0.972972972972973\n",
      "\n",
      "Testing accuracy is:  0.7368421052631579\n",
      "\n",
      "*****************\n",
      "min_samples_split =  8\n",
      "Overfitting has occurred\n",
      "Training accuracy is:  0.9594594594594594\n",
      "\n",
      "Testing accuracy is:  0.7368421052631579\n",
      "\n",
      "*****************\n",
      "min_samples_split =  9\n",
      "Overfitting has occurred\n",
      "Training accuracy is:  0.9594594594594594\n",
      "\n",
      "Testing accuracy is:  0.7368421052631579\n",
      "\n",
      "*****************\n"
     ]
    }
   ],
   "source": [
    "for i in range(2,10,1):\n",
    "    print(\"min_samples_split = \",i)\n",
    "    dtc = DecisionTreeClassifier(criterion=\"entropy\",min_samples_split=i,random_state=22)\n",
    "    fitting(dtc)\n",
    "    print(\"\\n*****************\")"
   ]
  },
  {
   "cell_type": "code",
   "execution_count": 23,
   "metadata": {},
   "outputs": [],
   "source": [
    "from sklearn.datasets import california_housing"
   ]
  },
  {
   "cell_type": "code",
   "execution_count": null,
   "metadata": {},
   "outputs": [],
   "source": []
  },
  {
   "cell_type": "code",
   "execution_count": null,
   "metadata": {},
   "outputs": [],
   "source": []
  }
 ],
 "metadata": {
  "kernelspec": {
   "display_name": "Python 3",
   "language": "python",
   "name": "python3"
  },
  "language_info": {
   "codemirror_mode": {
    "name": "ipython",
    "version": 3
   },
   "file_extension": ".py",
   "mimetype": "text/x-python",
   "name": "python",
   "nbconvert_exporter": "python",
   "pygments_lexer": "ipython3",
   "version": "3.7.2"
  }
 },
 "nbformat": 4,
 "nbformat_minor": 2
}
