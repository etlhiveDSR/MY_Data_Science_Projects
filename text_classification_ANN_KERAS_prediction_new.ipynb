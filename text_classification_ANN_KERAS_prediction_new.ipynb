{
 "cells": [
  {
   "cell_type": "markdown",
   "metadata": {},
   "source": [
    "# Fetch Data"
   ]
  },
  {
   "cell_type": "code",
   "execution_count": 1,
   "metadata": {},
   "outputs": [],
   "source": [
    "import pandas as pd\n",
    "A = pd.read_csv(\"/users/bajajvbh/Desktop/Vaibhav/Datasets/Restaurant_Reviews.tsv\",sep=\"\\t\")"
   ]
  },
  {
   "cell_type": "code",
   "execution_count": 2,
   "metadata": {},
   "outputs": [],
   "source": [
    "#cat /users/bajajvbh/Desktop/Vaibhav/Datasets/Restaurant_Reviews.tsv"
   ]
  },
  {
   "cell_type": "code",
   "execution_count": 3,
   "metadata": {},
   "outputs": [
    {
     "data": {
      "text/html": [
       "<div>\n",
       "<style scoped>\n",
       "    .dataframe tbody tr th:only-of-type {\n",
       "        vertical-align: middle;\n",
       "    }\n",
       "\n",
       "    .dataframe tbody tr th {\n",
       "        vertical-align: top;\n",
       "    }\n",
       "\n",
       "    .dataframe thead th {\n",
       "        text-align: right;\n",
       "    }\n",
       "</style>\n",
       "<table border=\"1\" class=\"dataframe\">\n",
       "  <thead>\n",
       "    <tr style=\"text-align: right;\">\n",
       "      <th></th>\n",
       "      <th>Review</th>\n",
       "      <th>Liked</th>\n",
       "    </tr>\n",
       "  </thead>\n",
       "  <tbody>\n",
       "    <tr>\n",
       "      <th>0</th>\n",
       "      <td>Wow... Loved this place.</td>\n",
       "      <td>1</td>\n",
       "    </tr>\n",
       "    <tr>\n",
       "      <th>1</th>\n",
       "      <td>Crust is not good.</td>\n",
       "      <td>0</td>\n",
       "    </tr>\n",
       "    <tr>\n",
       "      <th>2</th>\n",
       "      <td>Not tasty and the texture was just nasty.</td>\n",
       "      <td>0</td>\n",
       "    </tr>\n",
       "    <tr>\n",
       "      <th>3</th>\n",
       "      <td>Stopped by during the late May bank holiday of...</td>\n",
       "      <td>1</td>\n",
       "    </tr>\n",
       "    <tr>\n",
       "      <th>4</th>\n",
       "      <td>The selection on the menu was great and so wer...</td>\n",
       "      <td>1</td>\n",
       "    </tr>\n",
       "  </tbody>\n",
       "</table>\n",
       "</div>"
      ],
      "text/plain": [
       "                                              Review  Liked\n",
       "0                           Wow... Loved this place.      1\n",
       "1                                 Crust is not good.      0\n",
       "2          Not tasty and the texture was just nasty.      0\n",
       "3  Stopped by during the late May bank holiday of...      1\n",
       "4  The selection on the menu was great and so wer...      1"
      ]
     },
     "execution_count": 3,
     "metadata": {},
     "output_type": "execute_result"
    }
   ],
   "source": [
    "A.head()"
   ]
  },
  {
   "cell_type": "markdown",
   "metadata": {},
   "source": [
    "# Preprocessing"
   ]
  },
  {
   "cell_type": "markdown",
   "metadata": {},
   "source": [
    "    1. Convert every line to uppercase\n",
    "    2. Replace spl chars by null(remove spl chars)"
   ]
  },
  {
   "cell_type": "code",
   "execution_count": 4,
   "metadata": {},
   "outputs": [],
   "source": [
    "Q = []\n",
    "import re\n",
    "for i in A.Review:\n",
    "    i = i.upper()\n",
    "    Q.append(re.sub(\"[^A-Za-z ]\",\"\",i))"
   ]
  },
  {
   "cell_type": "code",
   "execution_count": 5,
   "metadata": {},
   "outputs": [],
   "source": [
    "Q = pd.Series(Q)"
   ]
  },
  {
   "cell_type": "code",
   "execution_count": 6,
   "metadata": {},
   "outputs": [],
   "source": [
    "from sklearn.feature_extraction.text import CountVectorizer\n",
    "cv = CountVectorizer()\n",
    "Q = cv.fit_transform(Q).toarray()"
   ]
  },
  {
   "cell_type": "code",
   "execution_count": 7,
   "metadata": {},
   "outputs": [],
   "source": [
    "#cv.get_feature_names()  # to get all unique words"
   ]
  },
  {
   "cell_type": "markdown",
   "metadata": {},
   "source": [
    "# Divide data in training and testing set"
   ]
  },
  {
   "cell_type": "code",
   "execution_count": 8,
   "metadata": {},
   "outputs": [],
   "source": [
    "X = Q\n",
    "Y = A.Liked\n",
    "\n",
    "from sklearn.model_selection import train_test_split\n",
    "xtrain,xtest,ytrain,ytest=train_test_split(X,Y,test_size=0.2,random_state=21)"
   ]
  },
  {
   "cell_type": "markdown",
   "metadata": {},
   "source": [
    "# Create a text classification model"
   ]
  },
  {
   "cell_type": "code",
   "execution_count": 18,
   "metadata": {},
   "outputs": [
    {
     "name": "stdout",
     "output_type": "stream",
     "text": [
      "Epoch 1/30\n",
      "13/13 [==============================] - 2s 146ms/step - loss: 0.8830 - accuracy: 0.6562 - val_loss: 0.4789 - val_accuracy: 0.7812\n",
      "Epoch 2/30\n",
      "13/13 [==============================] - 2s 139ms/step - loss: 0.1776 - accuracy: 0.9469 - val_loss: 0.5324 - val_accuracy: 0.7625\n",
      "Epoch 3/30\n",
      "13/13 [==============================] - 2s 144ms/step - loss: 0.0657 - accuracy: 0.9828 - val_loss: 0.5890 - val_accuracy: 0.7875\n",
      "Epoch 4/30\n",
      "13/13 [==============================] - 2s 154ms/step - loss: 0.0204 - accuracy: 0.9922 - val_loss: 0.6735 - val_accuracy: 0.7625\n",
      "Epoch 5/30\n",
      "13/13 [==============================] - 2s 133ms/step - loss: 0.0039 - accuracy: 1.0000 - val_loss: 0.8085 - val_accuracy: 0.7625\n",
      "Epoch 6/30\n",
      "13/13 [==============================] - 2s 144ms/step - loss: 0.0012 - accuracy: 1.0000 - val_loss: 1.0387 - val_accuracy: 0.7625\n",
      "Epoch 7/30\n",
      "13/13 [==============================] - 2s 136ms/step - loss: 0.0156 - accuracy: 0.9922 - val_loss: 1.2403 - val_accuracy: 0.7812\n",
      "Epoch 8/30\n",
      "13/13 [==============================] - 2s 136ms/step - loss: 0.0058 - accuracy: 0.9984 - val_loss: 1.3207 - val_accuracy: 0.7688\n",
      "Epoch 9/30\n",
      "13/13 [==============================] - 2s 153ms/step - loss: 5.1396e-04 - accuracy: 1.0000 - val_loss: 1.3990 - val_accuracy: 0.7625\n",
      "Epoch 10/30\n",
      "13/13 [==============================] - 2s 131ms/step - loss: 4.5149e-04 - accuracy: 1.0000 - val_loss: 1.5561 - val_accuracy: 0.7625\n",
      "Epoch 11/30\n",
      "13/13 [==============================] - 2s 135ms/step - loss: 3.5841e-05 - accuracy: 1.0000 - val_loss: 1.5129 - val_accuracy: 0.7500\n",
      "Epoch 12/30\n",
      "13/13 [==============================] - 2s 176ms/step - loss: 1.8501e-05 - accuracy: 1.0000 - val_loss: 1.6209 - val_accuracy: 0.7688\n",
      "Epoch 13/30\n",
      "13/13 [==============================] - 2s 180ms/step - loss: 5.4939e-06 - accuracy: 1.0000 - val_loss: 1.6646 - val_accuracy: 0.7500\n",
      "Epoch 14/30\n",
      "13/13 [==============================] - 2s 178ms/step - loss: 4.0481e-06 - accuracy: 1.0000 - val_loss: 1.6994 - val_accuracy: 0.7625\n",
      "Epoch 15/30\n",
      "13/13 [==============================] - 2s 144ms/step - loss: 5.2047e-06 - accuracy: 1.0000 - val_loss: 1.7694 - val_accuracy: 0.7750\n",
      "Epoch 16/30\n",
      "13/13 [==============================] - 2s 133ms/step - loss: 0.0044 - accuracy: 0.9984 - val_loss: 2.1710 - val_accuracy: 0.7375\n",
      "Epoch 17/30\n",
      "13/13 [==============================] - 2s 135ms/step - loss: 3.8424e-04 - accuracy: 1.0000 - val_loss: 2.7280 - val_accuracy: 0.7875\n",
      "Epoch 18/30\n",
      "13/13 [==============================] - 2s 134ms/step - loss: 1.2889e-05 - accuracy: 1.0000 - val_loss: 2.3852 - val_accuracy: 0.7875\n",
      "Epoch 19/30\n",
      "13/13 [==============================] - 2s 132ms/step - loss: 1.9686e-04 - accuracy: 1.0000 - val_loss: 2.8100 - val_accuracy: 0.7875\n",
      "Epoch 20/30\n",
      "13/13 [==============================] - 2s 137ms/step - loss: 9.4319e-07 - accuracy: 1.0000 - val_loss: 2.8200 - val_accuracy: 0.7937\n",
      "Epoch 21/30\n",
      "13/13 [==============================] - 2s 134ms/step - loss: 9.4671e-08 - accuracy: 1.0000 - val_loss: 2.8172 - val_accuracy: 0.8062\n",
      "Epoch 22/30\n",
      "13/13 [==============================] - 2s 149ms/step - loss: 7.8841e-08 - accuracy: 1.0000 - val_loss: 2.8202 - val_accuracy: 0.8062\n",
      "Epoch 23/30\n",
      "13/13 [==============================] - 2s 142ms/step - loss: 5.6535e-08 - accuracy: 1.0000 - val_loss: 2.8242 - val_accuracy: 0.8062\n",
      "Epoch 24/30\n",
      "13/13 [==============================] - 2s 180ms/step - loss: 4.1486e-08 - accuracy: 1.0000 - val_loss: 2.8310 - val_accuracy: 0.8062\n",
      "Epoch 25/30\n",
      "13/13 [==============================] - 2s 160ms/step - loss: 3.1352e-08 - accuracy: 1.0000 - val_loss: 2.8381 - val_accuracy: 0.8062\n",
      "Epoch 26/30\n",
      "13/13 [==============================] - 2s 173ms/step - loss: 2.4208e-08 - accuracy: 1.0000 - val_loss: 2.8507 - val_accuracy: 0.8062\n",
      "Epoch 27/30\n",
      "13/13 [==============================] - 2s 135ms/step - loss: 1.8325e-08 - accuracy: 1.0000 - val_loss: 2.8650 - val_accuracy: 0.8062\n",
      "Epoch 28/30\n",
      "13/13 [==============================] - 2s 132ms/step - loss: 1.4687e-08 - accuracy: 1.0000 - val_loss: 2.8789 - val_accuracy: 0.8062\n",
      "Epoch 29/30\n",
      "13/13 [==============================] - 2s 139ms/step - loss: 1.1793e-08 - accuracy: 1.0000 - val_loss: 2.8887 - val_accuracy: 0.8062\n",
      "Epoch 30/30\n",
      "13/13 [==============================] - 2s 138ms/step - loss: 1.0121e-08 - accuracy: 1.0000 - val_loss: 2.9039 - val_accuracy: 0.8062\n"
     ]
    }
   ],
   "source": [
    "from keras.models import Sequential\n",
    "from keras.layers import Dropout,Dense\n",
    "\n",
    "nn = Sequential()\n",
    "nn.add(Dense(2048,input_dim=2046))\n",
    "#nn.add(Dropout(0.2))\n",
    "nn.add(Dense(2048))\n",
    "nn.add(Dense(1,activation=\"sigmoid\"))\n",
    "\n",
    "nn.compile(loss = 'binary_crossentropy', metrics = ['accuracy'])\n",
    "model_nn=nn.fit(xtrain,ytrain,validation_split=0.2,batch_size=50,epochs=30)"
   ]
  },
  {
   "cell_type": "markdown",
   "metadata": {},
   "source": [
    "# Training error"
   ]
  },
  {
   "cell_type": "code",
   "execution_count": 45,
   "metadata": {},
   "outputs": [],
   "source": [
    "pred = nn.predict(xtrain)\n",
    "pred = pred.reshape(800)\n",
    "from sklearn.metrics import accuracy_score"
   ]
  },
  {
   "cell_type": "code",
   "execution_count": 44,
   "metadata": {},
   "outputs": [],
   "source": [
    "R = []\n",
    "for i in pred:\n",
    "    if(i < 0.6):\n",
    "        R.append(0)\n",
    "    else:\n",
    "        R.append(1)"
   ]
  },
  {
   "cell_type": "code",
   "execution_count": 46,
   "metadata": {},
   "outputs": [
    {
     "data": {
      "text/plain": [
       "0.96125"
      ]
     },
     "execution_count": 46,
     "metadata": {},
     "output_type": "execute_result"
    }
   ],
   "source": [
    "accuracy_score(ytrain,R)"
   ]
  },
  {
   "cell_type": "markdown",
   "metadata": {},
   "source": [
    "# Testing error"
   ]
  },
  {
   "cell_type": "code",
   "execution_count": 49,
   "metadata": {},
   "outputs": [
    {
     "data": {
      "text/plain": [
       "0.77"
      ]
     },
     "execution_count": 49,
     "metadata": {},
     "output_type": "execute_result"
    }
   ],
   "source": [
    "pred = nn.predict(xtest)\n",
    "pred = pred.reshape(200)\n",
    "from sklearn.metrics import accuracy_score\n",
    "\n",
    "R = []\n",
    "for i in pred:\n",
    "    if(i < 0.6):\n",
    "        R.append(0)\n",
    "    else:\n",
    "        R.append(1)\n",
    "\n",
    "accuracy_score(ytest,R)"
   ]
  },
  {
   "cell_type": "markdown",
   "metadata": {},
   "source": [
    "# Create predictions on user reviews as input"
   ]
  },
  {
   "cell_type": "code",
   "execution_count": 57,
   "metadata": {},
   "outputs": [],
   "source": [
    "review = \"Nice experince\""
   ]
  },
  {
   "cell_type": "code",
   "execution_count": 58,
   "metadata": {},
   "outputs": [],
   "source": [
    "Q = []\n",
    "import re\n",
    "for i in [review]:\n",
    "    i = i.upper()\n",
    "    Q.append(re.sub(\"[^A-Za-z ]\",\"\",i))"
   ]
  },
  {
   "cell_type": "code",
   "execution_count": 59,
   "metadata": {},
   "outputs": [],
   "source": [
    "x = nn.predict(cv.transform(pd.Series(Q)).toarray())[0]\n",
    "# Convery given data using same vocabulary as training data"
   ]
  },
  {
   "cell_type": "code",
   "execution_count": 60,
   "metadata": {},
   "outputs": [
    {
     "name": "stdout",
     "output_type": "stream",
     "text": [
      "positive review\n"
     ]
    }
   ],
   "source": [
    "if(x == 0):\n",
    "    print(\"negative review\")\n",
    "else:\n",
    "    print(\"positive review\")"
   ]
  },
  {
   "cell_type": "code",
   "execution_count": null,
   "metadata": {},
   "outputs": [],
   "source": []
  },
  {
   "cell_type": "code",
   "execution_count": null,
   "metadata": {},
   "outputs": [],
   "source": []
  }
 ],
 "metadata": {
  "kernelspec": {
   "display_name": "Python 3",
   "language": "python",
   "name": "python3"
  },
  "language_info": {
   "codemirror_mode": {
    "name": "ipython",
    "version": 3
   },
   "file_extension": ".py",
   "mimetype": "text/x-python",
   "name": "python",
   "nbconvert_exporter": "python",
   "pygments_lexer": "ipython3",
   "version": "3.7.2"
  }
 },
 "nbformat": 4,
 "nbformat_minor": 4
}
